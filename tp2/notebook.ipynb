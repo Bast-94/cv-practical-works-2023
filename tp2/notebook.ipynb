{
 "cells": [
  {
   "attachments": {},
   "cell_type": "markdown",
   "metadata": {},
   "source": [
    "# TP 2 de Video Processing"
   ]
  },
  {
   "cell_type": "code",
   "execution_count": 1,
   "metadata": {},
   "outputs": [],
   "source": [
    "import matplotlib.pyplot as plt\n",
    "import numpy as np\n",
    "from PIL import Image\n",
    "import os\n",
    "import calendar\n",
    "import time\n",
    "import cv2\n",
    "import numpy as np\n",
    "from tqdm import tqdm\n",
    "from sklearn.metrics import mean_squared_error"
   ]
  },
  {
   "cell_type": "code",
   "execution_count": 2,
   "metadata": {},
   "outputs": [],
   "source": [
    "PATH_TO_IMG_DIRECTORY = '../images/'"
   ]
  },
  {
   "attachments": {},
   "cell_type": "markdown",
   "metadata": {},
   "source": [
    "## **Question (A)**\n",
    "Au TP1, vous avez réalisé de l’estimation de mouvement de type forward par blocs entre F1 et F2.\n",
    "\n",
    "Procédez maintenant à de l’estimation backward par blocs entre F1 et F2."
   ]
  },
  {
   "cell_type": "code",
   "execution_count": 4,
   "metadata": {},
   "outputs": [],
   "source": [
    "def load_img_array(img_path :str) -> np.ndarray :\n",
    "    img = Image.open(img_path)\n",
    "    return np.asarray(img)"
   ]
  },
  {
   "cell_type": "code",
   "execution_count": 5,
   "metadata": {},
   "outputs": [],
   "source": [
    "# Thank you Mister Medjkoune for those functions \n",
    "\n",
    "def display_image(array, now = True, vmin = None, vmax = None):\n",
    "    \"\"\"Display 2D array as image\"\"\"\n",
    "    plt.imshow(array, cmap = plt.cm.gray, interpolation = 'nearest', vmin = vmin, vmax = vmax)\n",
    "    if now:\n",
    "        plt.show()\n",
    "def display_images(images, lines = None, columns = None, indices = None, vmin = None, vmax = None):\n",
    "    \"\"\"Display a list of 2D arrays as images\n",
    "    \"\"\"\n",
    "    if columns is None:\n",
    "        if lines is None:\n",
    "            columns = int(np.ceil(np.sqrt(len(images))))\n",
    "        else:\n",
    "            columns = int(np.ceil(float(len(images)) / lines))\n",
    "    if lines is None:\n",
    "        lines = int(np.ceil(float(len(images)) / columns))\n",
    "    if indices is None:\n",
    "        indices = range(1, len(images) + 1)\n",
    "    for k in range(len(images)):\n",
    "        if not images[k] is None:\n",
    "            plt.subplot(lines, columns, indices[k])\n",
    "            display_image(images[k], vmin = vmin, vmax = vmax, now = False)\n",
    "    plt.show()"
   ]
  },
  {
   "cell_type": "code",
   "execution_count": 6,
   "metadata": {},
   "outputs": [],
   "source": [
    "img_1_file_path = os.path.join(PATH_TO_IMG_DIRECTORY,'1.png')\n",
    "img_2_file_path = os.path.join(PATH_TO_IMG_DIRECTORY,'2.png')"
   ]
  },
  {
   "cell_type": "code",
   "execution_count": 7,
   "metadata": {},
   "outputs": [
    {
     "data": {
      "image/png": "[encoded data removed]",
      "text/plain": [
       "<Figure size 432x288 with 2 Axes>"
      ]
     },
     "metadata": {
      "needs_background": "light"
     },
     "output_type": "display_data"
    }
   ],
   "source": [
    "f1 = load_img_array(img_1_file_path)\n",
    "f2 = load_img_array(img_2_file_path)\n",
    "display_images([f1,f2])"
   ]
  },
  {
   "cell_type": "code",
   "execution_count": 8,
   "metadata": {},
   "outputs": [],
   "source": [
    "class BackWardEstimator():\n",
    "    def __init__(self, frame_1_file_name :str, frame_2_file_name :str ) -> None:\n",
    "        img1 = Image.open(frame_1_file_name)\n",
    "        img2 = Image.open(frame_2_file_name)\n",
    "        self.f2 = np.asarray(img2)\n",
    "        self.f1 = np.asarray(img1)\n",
    "        self.window_size = 10\n",
    "        self.block_size = 20\n",
    "        self.flow_vectors = []\n",
    "    \n",
    "    def get_min_error_block(self,x :int,y:int) -> tuple:\n",
    "        height, width = self.f2.shape[:2]\n",
    "        left_x_bound = max(x-self.window_size,0)\n",
    "        right_x_bound = min(x+self.window_size,height-self.block_size)\n",
    "        left_y_bound = max(y-self.window_size,0)\n",
    "        right_y_bound = min(y+self.window_size,width-self.block_size)\n",
    "        block_1 = self.f2[x:x+self.block_size,y:y+self.block_size].astype(int)\n",
    "        min_cost = float('inf')\n",
    "        min_dist = float('inf')\n",
    "        best_match = (0,0)\n",
    "        for i in range(left_x_bound,right_x_bound):\n",
    "            for j in range(left_y_bound,right_y_bound):\n",
    "                block_2 = self.f1[i:i+self.block_size,j:j+self.block_size].astype(int)\n",
    "                assert(block_1.shape == block_2.shape  or print(x,y,block_1.shape,block_2.shape,i,j,left_y_bound,right_y_bound))\n",
    "                cost = np.mean(np.abs(block_1 - block_2))\n",
    "                dist = (x-i)**2 + (y-j)**2\n",
    "                if(cost <= min_cost and dist < min_dist):\n",
    "                    min_cost = cost\n",
    "                    best_match = (x,y,x-i,y-j)\n",
    "                    min_dist = dist\n",
    "    \n",
    "        return best_match\n",
    "    \n",
    "    def back_ward_estimation(self) -> np.ndarray :\n",
    "        height, width = self.f2.shape[:2]\n",
    "        for x in tqdm(range(0,height-self.block_size+1,self.block_size)):\n",
    "            for y in (range(0,width-self.block_size+1,self.block_size)):\n",
    "                best_match = self.get_min_error_block(x,y)\n",
    "                self.flow_vectors.append(best_match)\n",
    "                \n",
    "        img_to_display = np.copy(self.f2)\n",
    "        for point in self.flow_vectors:\n",
    "            x,y,dx,dy = point\n",
    "            cv2.arrowedLine( img_to_display,(y,x), (int(dy+y),int(dx+x)), (0, 255, 0),1)\n",
    "        \n",
    "        print(f'Backward estimation by block wise method with {self.block_size} for block size and {self.window_size} for window size.')\n",
    "        return img_to_display\n",
    "    \n",
    "    def __call__(self,block_size:int = 5) -> None:\n",
    "        self.block_size = block_size\n",
    "        return self.back_ward_estimation()"
   ]
  },
  {
   "cell_type": "code",
   "execution_count": 99,
   "metadata": {},
   "outputs": [],
   "source": [
    "class BackWardEstimator():\n",
    "    def __init__(self, frame_1_file_name :str, frame_2_file_name :str ,block_size:int = 25) -> None:\n",
    "        img1 = Image.open(frame_1_file_name)\n",
    "        img2 = Image.open(frame_2_file_name)\n",
    "        self.f2 = np.asarray(img2)\n",
    "        self.f1 = np.asarray(img1)\n",
    "        self.window_size = 15\n",
    "        self.block_size = block_size\n",
    "        self.flow_vectors = []\n",
    "    \n",
    "    def get_min_error_block(self,x :int,y:int,show_block = False) -> tuple:\n",
    "        height, width = self.f2.shape[:2]\n",
    "        left_x_bound = max(x-self.block_size,0)\n",
    "        right_x_bound = min(x+self.block_size,height-self.block_size)\n",
    "        if(left_x_bound > right_x_bound):\n",
    "            print('bad x')\n",
    "        left_y_bound = max(y-self.block_size,0)\n",
    "        right_y_bound = min(y+self.block_size,width-self.block_size)\n",
    "        if(left_y_bound > right_y_bound):\n",
    "            print('bad y')\n",
    "        current_block = self.f2[x-self.block_size:x+self.block_size,y-self.block_size:y+self.block_size].astype(int)\n",
    "        \n",
    "        min_cost = float('inf')\n",
    "        min_dist = float('inf')\n",
    "        best_match = (0,0,0,0)\n",
    "        if (show_block):\n",
    "            print(f'{(left_x_bound,right_x_bound)=}')\n",
    "            print(f'{(left_y_bound,right_y_bound)=}')\n",
    "        best_block = None\n",
    "        for i in range(left_x_bound,right_x_bound):\n",
    "            for j in range(left_y_bound,right_y_bound):\n",
    "                prev_block = self.f1[i-self.block_size:i+self.block_size,j-self.block_size:j+self.block_size].astype(int)\n",
    "                if current_block.shape != prev_block.shape :\n",
    "                    continue\n",
    "                cost = np.mean(np.square(current_block - prev_block))\n",
    "                if(cost < min_cost):\n",
    "                    min_cost = cost\n",
    "                    best_match = (x,y,i-x,j-y)\n",
    "                    best_block = prev_block\n",
    "                    \n",
    "        if (show_block and best_block is not None):\n",
    "            plt.imshow(current_block)\n",
    "            plt.show()\n",
    "            plt.imshow(best_block)\n",
    "            plt.show()\n",
    "        return best_match\n",
    "    \n",
    "    def back_ward_estimation(self) -> np.ndarray :\n",
    "        height, width = self.f2.shape[:2]\n",
    "        for x in tqdm(range(self.block_size,height-self.block_size+1,2*self.block_size)):\n",
    "            for y in (range(self.block_size,width-self.block_size+1,2*self.block_size)):\n",
    "                best_match = self.get_min_error_block(x,y)\n",
    "                self.flow_vectors.append(best_match)\n",
    "                \n",
    "        img_to_display = np.copy(self.f2)\n",
    "        for point in self.flow_vectors:\n",
    "            x,y,dx,dy = point\n",
    "            cv2.arrowedLine( img_to_display,(y,x), (int(dy+y),int(dx+x)), (255, 255, 0),1)\n",
    "        \n",
    "        print(f'Backward estimation by block wise method with {self.block_size} for block size and {self.window_size} for window size.')\n",
    "        return img_to_display\n",
    "    \n",
    "    def display_backward_estimation(self)-> None:\n",
    "        fig, ax = plt.subplots(figsize =(20, 10))\n",
    "        img_to_display = self.back_ward_estimation()\n",
    "        plt.imshow(img_to_display)\n",
    "        \n",
    "    def predict_f2(self,display=True) -> None:\n",
    "        new_img = np.zeros_like(self.f2)\n",
    "        for vec in self.flow_vectors:\n",
    "            x,y,dx,dy = vec\n",
    "            f1_x = x+dx\n",
    "            f1_y = y+dy \n",
    "            block_size = self.block_size\n",
    "            block_1 =  self.f1[f1_x-block_size:f1_x+block_size:,f1_y-block_size:f1_y+block_size]\n",
    "            new_img[x-block_size:x+block_size,y-block_size:y+block_size] = block_1\n",
    "        \n",
    "        if(display):\n",
    "            display_image(new_img)\n",
    "        return new_img\n",
    "    def get_mse(self):\n",
    "        return np.mean(np.square(self.predict_f2(display=False).astype(int) - self.f2.astype(int)))\n",
    "    def __call__(self,display:bool = True) -> None:\n",
    "        if (display):\n",
    "            return self.display_backward_estimation()\n",
    "        return self.back_ward_estimation()"
   ]
  },
  {
   "cell_type": "code",
   "execution_count": 101,
   "metadata": {},
   "outputs": [
    {
     "name": "stderr",
     "output_type": "stream",
     "text": [
      "100%|██████████| 12/12 [00:09<00:00,  1.23it/s]\n"
     ]
    },
    {
     "name": "stdout",
     "output_type": "stream",
     "text": [
      "Backward estimation by block wise method with 25 for block size and 15 for window size.\n"
     ]
    },
    {
     "data": {
      "image/png": "[encoded data removed]",
      "text/plain": [
       "<Figure size 1440x720 with 1 Axes>"
      ]
     },
     "metadata": {
      "needs_background": "light"
     },
     "output_type": "display_data"
    }
   ],
   "source": [
    "backward_estimator = BackWardEstimator(img_1_file_path,img_2_file_path)\n",
    "backward_estimator()"
   ]
  },
  {
   "attachments": {},
   "cell_type": "markdown",
   "metadata": {},
   "source": [
    "## **Question (B)**\n",
    "* Sachant que l’on va vouloir reconstruire la frame F2 à partir de F1, pourquoi a-t-on donc fait de la ME backward et pas de la ME forward ?\n",
    "    \n",
    "    On veut connaitre la frame de F2 à partir de F1, il convient donc de connaitre l'estimation de mouvement de F2 vers F1."
   ]
  },
  {
   "attachments": {},
   "cell_type": "markdown",
   "metadata": {},
   "source": [
    "* Que se serait-il passé sinon ? (pensez à quels artéfacts visuels on aurait obtenu)\n",
    "    \n",
    "    Nous aurions obtenu sûrement une estimation de mouvement incohérente, et du bruit dans l'image."
   ]
  },
  {
   "attachments": {},
   "cell_type": "markdown",
   "metadata": {},
   "source": [
    "## **Question (C)**\n",
    "Reconstruisez l’image F2 à partir de vos vecteurs de mouvements et de F1. Quelle est la MSE de reconstruction ?\n"
   ]
  },
  {
   "cell_type": "code",
   "execution_count": 112,
   "metadata": {},
   "outputs": [
    {
     "name": "stdout",
     "output_type": "stream",
     "text": [
      "Predicted F2\n"
     ]
    },
    {
     "data": {
      "image/png": "[encoded data removed]",
      "text/plain": [
       "<Figure size 432x288 with 1 Axes>"
      ]
     },
     "metadata": {
      "needs_background": "light"
     },
     "output_type": "display_data"
    },
    {
     "name": "stdout",
     "output_type": "stream",
     "text": [
      "Real F2\n"
     ]
    },
    {
     "data": {
      "image/png": "[encoded data removed]",
      "text/plain": [
       "<Figure size 432x288 with 1 Axes>"
      ]
     },
     "metadata": {
      "needs_background": "light"
     },
     "output_type": "display_data"
    },
    {
     "name": "stdout",
     "output_type": "stream",
     "text": [
      "Mean squared error = 19.635358333333333\n"
     ]
    }
   ],
   "source": [
    "print('Predicted F2')\n",
    "predicted_f2 = backward_estimator.predict_f2()\n",
    "print('Real F2')\n",
    "display_image(backward_estimator.f2)\n",
    "mse = backward_estimator.get_mse()\n",
    "print(f'Mean squared error = {mse}')"
   ]
  },
  {
   "cell_type": "code",
   "execution_count": 111,
   "metadata": {},
   "outputs": [
    {
     "name": "stdout",
     "output_type": "stream",
     "text": [
      "Difference between f2 and predicted f2 : \n"
     ]
    },
    {
     "data": {
      "image/png": "[encoded data removed]",
      "text/plain": [
       "<Figure size 432x288 with 1 Axes>"
      ]
     },
     "metadata": {
      "needs_background": "light"
     },
     "output_type": "display_data"
    }
   ],
   "source": [
    "print('Difference between f2 and predicted f2 : ')\n",
    "display_image(np.abs(backward_estimator.f2.astype(int) - predicted_f2.astype(int)))"
   ]
  },
  {
   "attachments": {},
   "cell_type": "markdown",
   "metadata": {},
   "source": [
    "**Observations:**\n",
    "- Le rayon des cercles lumineux pour F2 et F2 predite sont similaires.\n",
    "- Le centre de F2 prédite possède une trace légèrement quadrillée au centre.\n",
    "- L'affichage de la différence entre F2 et F2 predite montre tout de même du bruit au niveau de la reconstitution du cercle.\n",
    "- Le fond noir reste constant.\n",
    "- La MSE ne semble pas témoigner d'une grande différence entre F2 et F2 predite."
   ]
  },
  {
   "attachments": {},
   "cell_type": "markdown",
   "metadata": {},
   "source": [
    "## **Question (D)**\n",
    "Supposant que l’on n’aura plus accès à F2, quelles sont les 3 données ”classiques” (en plus du paramètres de taille de bloc) dont on a besoin pour la reconstruire de façon parfaite en compensation de mouvement ?\n"
   ]
  },
  {
   "attachments": {},
   "cell_type": "markdown",
   "metadata": {},
   "source": [
    "Il faut:\n",
    "-  **champs de vecteur de l'estimation backward**"
   ]
  },
  {
   "attachments": {},
   "cell_type": "markdown",
   "metadata": {},
   "source": [
    "## **Question (E)**\n",
    "Reconstruisez F2 à partir de ces 3 données. Quelle est désormais la MSE de reconstruction ?"
   ]
  },
  {
   "attachments": {},
   "cell_type": "markdown",
   "metadata": {},
   "source": [
    "## **Question (F)**\n",
    "Expliquez quelles données on peut coder avec perte pour garder une\n",
    "qualité de reconstruction de F1 et F2 ”correcte”. Justifiez vos explications par des images de rendus."
   ]
  },
  {
   "attachments": {},
   "cell_type": "markdown",
   "metadata": {},
   "source": [
    "## **Question (G)**\n",
    "Qu’est-ce-qui aurait changé si on utilise une méthode à base de mesh du point de vue de la minimisation ? et du point de vue du rendu final ? Montrez vos résultats en vous aidant du TP1."
   ]
  }
 ],
 "metadata": {
  "kernelspec": {
   "display_name": "Python 3",
   "language": "python",
   "name": "python3"
  },
  "language_info": {
   "codemirror_mode": {
    "name": "ipython",
    "version": 3
   },
   "file_extension": ".py",
   "mimetype": "text/x-python",
   "name": "python",
   "nbconvert_exporter": "python",
   "pygments_lexer": "ipython3",
   "version": "3.10.6"
  },
  "orig_nbformat": 4
 },
 "nbformat": 4,
 "nbformat_minor": 2
}
