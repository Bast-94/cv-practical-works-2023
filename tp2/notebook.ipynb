{
 "cells": [
  {
   "attachments": {},
   "cell_type": "markdown",
   "metadata": {},
   "source": [
    "# TP 2 de Video Processing"
   ]
  },
  {
   "cell_type": "code",
   "execution_count": 26,
   "metadata": {},
   "outputs": [],
   "source": [
    "import matplotlib.pyplot as plt\n",
    "import numpy as np\n",
    "from PIL import Image\n",
    "import os\n",
    "import cv2\n",
    "import pandas as pd\n",
    "import numpy as np\n",
    "from tqdm import tqdm\n",
    "import yaml\n",
    "import itertools\n",
    "from scipy.fft import dct\n",
    "from scipy import fftpack"
   ]
  },
  {
   "cell_type": "code",
   "execution_count": 27,
   "metadata": {},
   "outputs": [],
   "source": [
    "PATH_TO_IMG_DIRECTORY = '../images/'\n",
    "PATH_TO_CONFIG_FILE = '../config.yml'"
   ]
  },
  {
   "attachments": {},
   "cell_type": "markdown",
   "metadata": {},
   "source": [
    "Fonctionnalités pour des configurations externes."
   ]
  },
  {
   "cell_type": "code",
   "execution_count": 28,
   "metadata": {},
   "outputs": [],
   "source": [
    "def read_yaml(file_name):\n",
    "    with open(file_name, 'r') as fichier:\n",
    "        contenu = fichier.read()\n",
    "        donnees = yaml.safe_load(contenu)\n",
    "    return donnees\n",
    "\n",
    "def write_yaml(data, nom_fichier):\n",
    "    with open(nom_fichier, 'w') as fichier:\n",
    "        contenu = yaml.dump(data, default_flow_style=False)\n",
    "        fichier.write(contenu)"
   ]
  },
  {
   "attachments": {},
   "cell_type": "markdown",
   "metadata": {},
   "source": [
    "## **Question (A)**\n",
    "Au TP1, vous avez réalisé de l’estimation de mouvement de type forward par blocs entre $F1$ et $F2$.\n",
    "\n",
    "Procédez maintenant à de l’estimation backward par blocs entre $F1$ et $F2$."
   ]
  },
  {
   "cell_type": "code",
   "execution_count": 29,
   "metadata": {},
   "outputs": [],
   "source": [
    "def load_img_array(img_path :str) -> np.ndarray :\n",
    "    img = Image.open(img_path)\n",
    "    return np.asarray(img)"
   ]
  },
  {
   "cell_type": "code",
   "execution_count": 30,
   "metadata": {},
   "outputs": [],
   "source": [
    "# Thank you Mister Medjkoune for those functions \n",
    "\n",
    "def display_image(array, now = True, vmin = None, vmax = None, title='',figsize=(20,10)):\n",
    "    \"\"\"Display 2D array as image\"\"\"\n",
    "    fig, ax = plt.subplots(figsize =figsize)\n",
    "    plt.imshow(array, cmap = plt.cm.gray, interpolation = 'nearest', vmin = vmin, vmax = vmax)\n",
    "    if now:\n",
    "        plt.title(title)\n",
    "        plt.show()\n",
    "def display_images(images, lines = None, columns = None, indices = None, vmin = None, vmax = None):\n",
    "    \"\"\"Display a list of 2D arrays as images\n",
    "    \"\"\"\n",
    "    if columns is None:\n",
    "        if lines is None:\n",
    "            columns = int(np.ceil(np.sqrt(len(images))))\n",
    "        else:\n",
    "            columns = int(np.ceil(float(len(images)) / lines))\n",
    "    if lines is None:\n",
    "        lines = int(np.ceil(float(len(images)) / columns))\n",
    "    if indices is None:\n",
    "        indices = range(1, len(images) + 1)\n",
    "    for k in range(len(images)):\n",
    "        if not images[k] is None:\n",
    "            plt.subplot(lines, columns, indices[k])\n",
    "            display_image(images[k], vmin = vmin, vmax = vmax, now = False)\n",
    "    plt.show()"
   ]
  },
  {
   "cell_type": "code",
   "execution_count": 31,
   "metadata": {},
   "outputs": [],
   "source": [
    "img_1_file_path = os.path.join(PATH_TO_IMG_DIRECTORY,'1.png')\n",
    "img_2_file_path = os.path.join(PATH_TO_IMG_DIRECTORY,'2.png')"
   ]
  },
  {
   "attachments": {},
   "cell_type": "markdown",
   "metadata": {},
   "source": [
    "Affichage des images"
   ]
  },
  {
   "cell_type": "code",
   "execution_count": 32,
   "metadata": {},
   "outputs": [
    {
     "data": {
      "image/png": "[encoded data removed]",
      "text/plain": [
       "<Figure size 360x360 with 1 Axes>"
      ]
     },
     "metadata": {
      "needs_background": "light"
     },
     "output_type": "display_data"
    },
    {
     "data": {
      "image/png": "[encoded data removed]",
      "text/plain": [
       "<Figure size 360x360 with 1 Axes>"
      ]
     },
     "metadata": {
      "needs_background": "light"
     },
     "output_type": "display_data"
    }
   ],
   "source": [
    "f1 = load_img_array(img_1_file_path)\n",
    "f2 = load_img_array(img_2_file_path)\n",
    "display_image(f1,figsize=(5,5))\n",
    "display_image(f2,figsize=(5,5))"
   ]
  },
  {
   "attachments": {},
   "cell_type": "markdown",
   "metadata": {},
   "source": [
    "Définition de la classe qui sera en charge de reconstruire l'image $F2$ avec l'estimation backward."
   ]
  },
  {
   "cell_type": "code",
   "execution_count": 33,
   "metadata": {},
   "outputs": [],
   "source": [
    "class BackWardEstimator():\n",
    "    def __init__(self, frame_1_file_name :str, frame_2_file_name :str ,block_size:int = 25, window_size=20) -> None:\n",
    "        \"\"\"Classe dédiée pour l'estimation backward selon une taille de bloc et une taille de fenêtre.\n",
    "\n",
    "        Args:\n",
    "            frame_1_file_name (str): Chemin vers la frame 1\n",
    "            frame_2_file_name (str): Chemin vers la frame 2\n",
    "            block_size (int, optional): Rayon du bloc mis par défaut à 25\n",
    "            window_size (int, optional): Taille de la fenêtre d'analyse misz par défaut à 20.\n",
    "        \"\"\"\n",
    "        img1 = Image.open(frame_1_file_name)\n",
    "        img2 = Image.open(frame_2_file_name)\n",
    "        self.f2 = np.asarray(img2)\n",
    "        self.f1 = np.asarray(img1)\n",
    "        self.window_size = window_size\n",
    "        self.block_size = block_size\n",
    "        self.flow_vectors = []\n",
    "        self.epsilon = None\n",
    "        self.predicted_f2 = None\n",
    "        self.reconstructed_f2 = None\n",
    "    \n",
    "    def get_min_error_block(self,x :int,y:int,show_block = False) -> tuple:\n",
    "        \"\"\"Fonction qui minimise l'EDFD\n",
    "\n",
    "        Args:\n",
    "            `x` (int): Abscisse du centre du bloc.\n",
    "            `y` (int): Ordonnée du centre du bloc.\n",
    "            show_block (bool, optional): Option de debug.\n",
    "\n",
    "        Returns:\n",
    "            tuple: Coordonnées du point et du vecteur qui minimise l'EDFD.\n",
    "        \"\"\"\n",
    "        height, width = self.f2.shape[:2]\n",
    "        \n",
    "        # On définit les limites des coordonnées.\n",
    "        left_x_bound = max(x-self.block_size-self.window_size,0)\n",
    "        right_x_bound = min(x+self.block_size+self.window_size,height-self.block_size)\n",
    "        left_y_bound = max(y-self.block_size-self.window_size,0)\n",
    "        right_y_bound = min(y+self.block_size+self.window_size,width-self.block_size)\n",
    "        # On prend notre bloc de référence dans F2.\n",
    "        current_block = self.f2[x-self.block_size:x+self.block_size,y-self.block_size:y+self.block_size].astype(int)\n",
    "        min_cost = float('inf')\n",
    "        min_dist = float('inf')\n",
    "        best_match = (0,0,0,0)\n",
    "        for i in range(left_x_bound,right_x_bound):\n",
    "            for j in range(left_y_bound,right_y_bound):\n",
    "                prev_block = self.f1[i-self.block_size:i+self.block_size,j-self.block_size:j+self.block_size].astype(int)\n",
    "                # On vérifie la compatibilité des blocs.\n",
    "                if current_block.shape != prev_block.shape :\n",
    "                    continue\n",
    "                \n",
    "                cost = np.sum(np.abs(current_block - prev_block))\n",
    "                dist = abs(x-i) + abs(y-j)\n",
    "                # Mise à jour du vecteur minimisant l'EDFD si la distance est plus proche de notre bloc de référence.\n",
    "                if (cost  == min_cost and dist < min_dist):\n",
    "                    best_match = (x,y,i-x,j-y)\n",
    "                    min_dist = dist\n",
    "                # Mise à jour du vecteur minimisant l'EDFD indépendamment de la distance\n",
    "                if(cost < min_cost):\n",
    "                    min_cost = cost\n",
    "                    best_match = (x,y,i-x,j-y)\n",
    "    \n",
    "        return best_match\n",
    "    \n",
    "    def back_ward_estimation(self) -> np.ndarray :\n",
    "        \"\"\"Méthode qui applique l'estimation de mouvement backward\n",
    "\n",
    "        Returns:\n",
    "            np.ndarray: Image avec le champs de vecteur backward.\n",
    "        \"\"\"\n",
    "        height, width = self.f2.shape[:2]\n",
    "        for x in tqdm(range(self.block_size,height-self.block_size+1,2*self.block_size)):\n",
    "            for y in (range(self.block_size,width-self.block_size+1,2*self.block_size)):\n",
    "                best_match = self.get_min_error_block(x,y)\n",
    "                self.flow_vectors.append(best_match)\n",
    "                \n",
    "        img_to_display = np.copy(self.f2)\n",
    "        for point in self.flow_vectors:\n",
    "            x,y,dx,dy = point\n",
    "            # Affichage de l'image avec les vecteur.\n",
    "            cv2.arrowedLine( img_to_display,(y,x), (int(dy+y),int(dx+x)), (255, 0, 0),1)\n",
    "        \n",
    "        print(f'Backward estimation by block wise method with {self.block_size} for block size and {self.window_size} for window size.')\n",
    "        return img_to_display\n",
    "    \n",
    "    def display_backward_estimation(self)-> None:\n",
    "        \"\"\"Affiche l'estimation de mouvement backward.\n",
    "        \"\"\"\n",
    "        img_to_display = self.back_ward_estimation()\n",
    "        display_image(img_to_display,title='Backward Motion Estimation')\n",
    "        \n",
    "    def predict_f2(self,display=True) -> np.ndarray:\n",
    "        \"\"\"Prédiction de F2 en fonction de F1 et du champ de vecteur backward.\n",
    "        Args:\n",
    "            display (bool, optional): Précise s'il on affiche ou pas l'image prédite\n",
    "\n",
    "        Returns:\n",
    "            np.ndarray: Image à prédire\n",
    "        \"\"\"\n",
    "        new_img = np.zeros(shape=self.f1.shape,dtype=np.uint8)\n",
    "        if (len(self.flow_vectors) == 0):\n",
    "            self.back_ward_estimation()\n",
    "        # Pour chaque vecteur de l'estimation de mouvement backward on applique la procédure suivante:\n",
    "        for vec in self.flow_vectors:\n",
    "            x,y,dx,dy = vec\n",
    "            f1_x = x+dx\n",
    "            f1_y = y+dy \n",
    "            block_size = self.block_size\n",
    "            # On récupère le block de f1 qui subit une translation lié à `vec`\n",
    "            block_1 =  self.f1[f1_x-block_size:f1_x+block_size:,f1_y-block_size:f1_y+block_size]\n",
    "            # On affecte le nouveau bloc dans l'image à prédire\n",
    "            new_img[x-block_size:x+block_size,y-block_size:y+block_size] = block_1\n",
    "        \n",
    "        if(display):\n",
    "            display_image(new_img,title='Reconstituted F2')\n",
    "        self.predicted_f2 = new_img\n",
    "        return new_img\n",
    "    \n",
    "    def get_predicted_f2(self)-> np.ndarray:\n",
    "        \"\"\"Renvoie la prédiction de F2\n",
    "        Returns:\n",
    "            np.ndarray: Prédiction de F2 par calculée par la backward estimation.\n",
    "        \"\"\"\n",
    "        if (self.predicted_f2 is None):\n",
    "            self.predict_f2(display=False)\n",
    "        return self.predicted_f2\n",
    "    \n",
    "    def get_epsilon(self) -> np.ndarray:\n",
    "        \"\"\"Renvoie l'erreur epsilon = F2 - F2'\n",
    "\n",
    "        Returns:\n",
    "            np.ndarray: epsilon\n",
    "        \"\"\"\n",
    "        \n",
    "        return self.f2.astype(int) - self.get_predicted_f2().astype(int)\n",
    "    \n",
    "    def get_mse(self)->float:\n",
    "        \"\"\"Méthode qui calcule l'erreur moyenne quadratique(MSE).\n",
    "\n",
    "        Returns:\n",
    "            float: MSE\n",
    "        \"\"\"\n",
    "        return np.mean(np.square(self.get_predicted_f2().astype(int) - self.f2.astype(int)))\n",
    "    \n",
    "    def get_reconstruct_f2(self,display:bool = False) -> np.ndarray:\n",
    "        \"\"\"Méthode qui consiste à recontruire F2 à partir de F1, du champs de vecteur et d'epsilon\n",
    "\n",
    "        Returns:\n",
    "            np.ndarray: F2 reconstruite\n",
    "        \"\"\"\n",
    "        if(self.reconstructed_f2 is None):\n",
    "            self.reconstructed_f2 = self.get_predicted_f2() + self.get_epsilon()\n",
    "        if (display):\n",
    "            display_image(self.reconstructed_f2)\n",
    "        return self.reconstructed_f2\n",
    "    \n",
    "    def __call__(self,display:bool = True) -> np.ndarray:\n",
    "        \"\"\"Lancment de l'estimation backward, elle enregistre les vecteurs de mouvement.\n",
    "\n",
    "        Args:\n",
    "            display (bool, optional): \n",
    "\n",
    "        Returns:\n",
    "            np.ndarray: Image F2 avec les champs de vecteur\n",
    "        \"\"\"\n",
    "        if (display):\n",
    "            return self.display_backward_estimation()\n",
    "        return self.back_ward_estimation()"
   ]
  },
  {
   "cell_type": "code",
   "execution_count": 34,
   "metadata": {},
   "outputs": [
    {
     "name": "stderr",
     "output_type": "stream",
     "text": [
      "100%|██████████| 15/15 [00:22<00:00,  1.52s/it]\n"
     ]
    },
    {
     "name": "stdout",
     "output_type": "stream",
     "text": [
      "Backward estimation by block wise method with 20 for block size and 20 for window size.\n"
     ]
    },
    {
     "data": {
      "image/png": "[encoded data removed]",
      "text/plain": [
       "<Figure size 1440x720 with 1 Axes>"
      ]
     },
     "metadata": {
      "needs_background": "light"
     },
     "output_type": "display_data"
    }
   ],
   "source": [
    "backward_estimator = BackWardEstimator(img_1_file_path,img_2_file_path,block_size=20,window_size=20)\n",
    "backward_estimator()"
   ]
  },
  {
   "cell_type": "code",
   "execution_count": 35,
   "metadata": {},
   "outputs": [],
   "source": [
    "def search_best_hyper_params(img_1_file_path,img_2_file_path):\n",
    "    parameters = {\n",
    "        'block_size': [10,15,20,25,30,35],\n",
    "        'window_size': [10,20,25],\n",
    "    }\n",
    "\n",
    "    grid = list(itertools.product(*parameters.values()))\n",
    "    best_mse = float('inf')\n",
    "    best_param = {}\n",
    "    for params in tqdm(grid):\n",
    "        param_dict = dict(zip(parameters.keys(), params))\n",
    "        cur_backward_estimator = BackWardEstimator(img_1_file_path,img_2_file_path,**param_dict)\n",
    "        mse = cur_backward_estimator.get_mse()\n",
    "        if(mse < best_mse):\n",
    "            best_param = param_dict\n",
    "            best_mse = mse\n",
    "    \n",
    "    return best_param, best_mse\n"
   ]
  },
  {
   "attachments": {},
   "cell_type": "markdown",
   "metadata": {},
   "source": [
    "|**Observations:** |**Interprétations:** | \n",
    "| :- | :- |\n",
    "|On remarque que sur le fond noir les vecteurs sont nuls | Cela s'explique par une absence de mouvement entre les deux frames | \n",
    "|Au niveau du cercle les vecteur s'orientent tous vers le centre de l'image | Cela témoigne du rétrécissement du cercle de la frame 2 à la frame 1| "
   ]
  },
  {
   "attachments": {},
   "cell_type": "markdown",
   "metadata": {},
   "source": [
    "## **Question (B)**\n",
    "* Sachant que l’on va vouloir reconstruire la frame F2 à partir de F1, pourquoi a-t-on donc fait de la ME backward et pas de la ME forward ?\n",
    "    \n",
    "    On veut connaitre la frame de F2 à partir de F1, il convient donc de connaitre l'estimation de mouvement de F2 vers F1."
   ]
  },
  {
   "attachments": {},
   "cell_type": "markdown",
   "metadata": {},
   "source": [
    "* Que se serait-il passé sinon ? (pensez à quels artéfacts visuels on aurait obtenu)\n",
    "    \n",
    "    Nous aurions obtenu sûrement une estimation de mouvement incohérente, et du bruit dans l'image."
   ]
  },
  {
   "attachments": {},
   "cell_type": "markdown",
   "metadata": {},
   "source": [
    "## **Question (C)**\n",
    "Reconstruisez l’image F2 à partir de vos vecteurs de mouvements et de F1. Quelle est la MSE de reconstruction ?\n"
   ]
  },
  {
   "cell_type": "code",
   "execution_count": 36,
   "metadata": {},
   "outputs": [
    {
     "data": {
      "image/png": "[encoded data removed]",
      "text/plain": [
       "<Figure size 1440x720 with 1 Axes>"
      ]
     },
     "metadata": {
      "needs_background": "light"
     },
     "output_type": "display_data"
    },
    {
     "data": {
      "image/png": "[encoded data removed]",
      "text/plain": [
       "<Figure size 720x720 with 1 Axes>"
      ]
     },
     "metadata": {
      "needs_background": "light"
     },
     "output_type": "display_data"
    },
    {
     "name": "stdout",
     "output_type": "stream",
     "text": [
      "Mean squared error = 17.232266666666668\n"
     ]
    }
   ],
   "source": [
    "predicted_f2 = backward_estimator.predict_f2()\n",
    "display_image(backward_estimator.f2, title='F2',figsize=(10,10))\n",
    "mse = backward_estimator.get_mse()\n",
    "print(f'Mean squared error = {mse}')\n"
   ]
  },
  {
   "attachments": {},
   "cell_type": "markdown",
   "metadata": {},
   "source": [
    "**Observations:**\n",
    "- Le rayon des cercles lumineux pour F2 et F2 predite sont similaires.\n",
    "- Le centre de F2 prédite possède une trace légèrement quadrillée au centre.\n",
    "- L'affichage de la différence entre F2 et F2 predite montre tout de même du bruit au niveau de la reconstitution du cercle.\n",
    "- Le fond noir reste constant.\n",
    "- La MSE ne semble pas témoigner d'une grande différence entre F2 et F2 predite."
   ]
  },
  {
   "attachments": {},
   "cell_type": "markdown",
   "metadata": {},
   "source": [
    "## **Question (D)**\n",
    "Supposant que l’on n’aura plus accès à F2, quelles sont les 3 données ”classiques” (en plus du paramètres de taille de bloc) dont on a besoin pour la reconstruire de façon parfaite en compensation de mouvement ?\n"
   ]
  },
  {
   "attachments": {},
   "cell_type": "markdown",
   "metadata": {},
   "source": [
    "Il faut:\n",
    "-  Le champ de vecteur de l'estimation backward\n",
    "- L'erreur $\\epsilon$ entre $F_1$ et $F_2$\n",
    "- L'image $F_1$"
   ]
  },
  {
   "attachments": {},
   "cell_type": "markdown",
   "metadata": {},
   "source": [
    "## **Question (E)**\n",
    "Reconstruisez F2 à partir de ces 3 données. Quelle est désormais la MSE de reconstruction ?"
   ]
  },
  {
   "cell_type": "code",
   "execution_count": 244,
   "metadata": {},
   "outputs": [
    {
     "data": {
      "image/png": "[encoded data removed]",
      "text/plain": [
       "<Figure size 1440x720 with 1 Axes>"
      ]
     },
     "metadata": {
      "needs_background": "light"
     },
     "output_type": "display_data"
    },
    {
     "name": "stdout",
     "output_type": "stream",
     "text": [
      "Mean squared error = 0.0\n"
     ]
    }
   ],
   "source": [
    "backward_estimator.get_reconstruct_f2(display=True)\n",
    "mse = np.mean(np.square(backward_estimator.get_reconstruct_f2() - backward_estimator.f2))\n",
    "print(f'Mean squared error = {mse}')"
   ]
  },
  {
   "attachments": {},
   "cell_type": "markdown",
   "metadata": {},
   "source": [
    "## **Question (F)**\n",
    "Expliquez quelles données on peut coder avec perte pour garder une\n",
    "qualité de reconstruction de $F1$ et $F2$ ”correcte”. Justifiez vos explications par des images de rendus."
   ]
  },
  {
   "attachments": {},
   "cell_type": "markdown",
   "metadata": {},
   "source": [
    "**Explications:**\n",
    "\n",
    "On peut d'abord appliquer à $F1$ la DCT (Transformée en Cosinus Discrète) qui va donner des coefficients des fréquences les plus élevées. Enfin les coefficients seront quantifiés en réduisant leur précision en les divisant par des valeurs prédéfinies dans une matrice de quantification. \n",
    "\n",
    "On peut coder $\\varepsilon$ de la même manière que $F1$. Cependant le codage de $\\varepsilon$ est plus avantageux car elle possède beaucoup de redondance en terme de données, comme on peut le voir ci-dessous"
   ]
  },
  {
   "attachments": {},
   "cell_type": "markdown",
   "metadata": {},
   "source": [
    "On remarque aussi que le champs de vecteurs peut posséder des vecteurs nuls, afin de faciliter la compression on ne peut que garder les vecteurs non nuls. Pour rappel les vecteur manipulés se présente comme suit : $(x,y,d_x,d_y)$\n",
    "avec $(x,y)$ les coordonées du point de départ du bloc dans $F2$ et $(d_x,d_y)$ les coordonnées de translation du vecteur."
   ]
  },
  {
   "cell_type": "code",
   "execution_count": 39,
   "metadata": {},
   "outputs": [
    {
     "name": "stderr",
     "output_type": "stream",
     "text": [
      "Clipping input data to the valid range for imshow with RGB data ([0..1] for floats or [0..255] for integers).\n"
     ]
    },
    {
     "data": {
      "image/png": "[encoded data removed]",
      "text/plain": [
       "<Figure size 1440x720 with 1 Axes>"
      ]
     },
     "metadata": {
      "needs_background": "light"
     },
     "output_type": "display_data"
    }
   ],
   "source": [
    "display_image(backward_estimator.get_epsilon())"
   ]
  },
  {
   "attachments": {},
   "cell_type": "markdown",
   "metadata": {},
   "source": [
    "On observe une prédominance de pixels noir et quelques pixels gris similaires et on peut observer une faible diversité des données quand on fait un histogramme des valeurs de $\\varepsilon$"
   ]
  },
  {
   "cell_type": "code",
   "execution_count": 40,
   "metadata": {},
   "outputs": [
    {
     "data": {
      "image/png": "[encoded data removed]",
      "text/plain": [
       "<Figure size 432x288 with 1 Axes>"
      ]
     },
     "metadata": {
      "needs_background": "light"
     },
     "output_type": "display_data"
    }
   ],
   "source": [
    "epsilon:np.ndarray = backward_estimator.get_epsilon()\n",
    "plt.hist(epsilon.flatten(),bins=255*2)\n",
    "plt.yscale('log')\n"
   ]
  },
  {
   "cell_type": "code",
   "execution_count": 41,
   "metadata": {},
   "outputs": [
    {
     "data": {
      "text/html": [
       "<div>\n",
       "<style scoped>\n",
       "    .dataframe tbody tr th:only-of-type {\n",
       "        vertical-align: middle;\n",
       "    }\n",
       "\n",
       "    .dataframe tbody tr th {\n",
       "        vertical-align: top;\n",
       "    }\n",
       "\n",
       "    .dataframe thead th {\n",
       "        text-align: right;\n",
       "    }\n",
       "</style>\n",
       "<table border=\"1\" class=\"dataframe\">\n",
       "  <thead>\n",
       "    <tr style=\"text-align: right;\">\n",
       "      <th></th>\n",
       "      <th>Valeurs</th>\n",
       "      <th>Occurences</th>\n",
       "    </tr>\n",
       "  </thead>\n",
       "  <tbody>\n",
       "    <tr>\n",
       "      <th>0</th>\n",
       "      <td>-26</td>\n",
       "      <td>7791</td>\n",
       "    </tr>\n",
       "    <tr>\n",
       "      <th>1</th>\n",
       "      <td>-25</td>\n",
       "      <td>6489</td>\n",
       "    </tr>\n",
       "    <tr>\n",
       "      <th>2</th>\n",
       "      <td>0</td>\n",
       "      <td>1051524</td>\n",
       "    </tr>\n",
       "    <tr>\n",
       "      <th>3</th>\n",
       "      <td>25</td>\n",
       "      <td>6039</td>\n",
       "    </tr>\n",
       "    <tr>\n",
       "      <th>4</th>\n",
       "      <td>26</td>\n",
       "      <td>8157</td>\n",
       "    </tr>\n",
       "  </tbody>\n",
       "</table>\n",
       "</div>"
      ],
      "text/plain": [
       "   Valeurs  Occurences\n",
       "0      -26        7791\n",
       "1      -25        6489\n",
       "2        0     1051524\n",
       "3       25        6039\n",
       "4       26        8157"
      ]
     },
     "execution_count": 41,
     "metadata": {},
     "output_type": "execute_result"
    }
   ],
   "source": [
    "unique_values, counts = np.unique(epsilon, return_counts=True)\n",
    "df = pd.DataFrame({'Valeurs': unique_values, 'Occurences': counts})\n",
    "df"
   ]
  },
  {
   "attachments": {},
   "cell_type": "markdown",
   "metadata": {},
   "source": [
    "On peut remarquer la faible diversité des données de $\\varepsilon$, il est donc avantageux de la coder.\n",
    "|Avant la compression| Après la compression|\n",
    "|:-|:-|\n",
    "|$F1$|$F1$ codée avec DCT|\n",
    "|$\\varepsilon$ d'une taille similaire à $F1$|$\\varepsilon$ codée avec DCT|\n",
    "|Champs de vecteur block-wise|Champs de vecteur block-wise sans les vecteurs nuls|"
   ]
  },
  {
   "cell_type": "code",
   "execution_count": 50,
   "metadata": {},
   "outputs": [
    {
     "data": {
      "text/html": [
       "<div>\n",
       "<style scoped>\n",
       "    .dataframe tbody tr th:only-of-type {\n",
       "        vertical-align: middle;\n",
       "    }\n",
       "\n",
       "    .dataframe tbody tr th {\n",
       "        vertical-align: top;\n",
       "    }\n",
       "\n",
       "    .dataframe thead th {\n",
       "        text-align: right;\n",
       "    }\n",
       "</style>\n",
       "<table border=\"1\" class=\"dataframe\">\n",
       "  <thead>\n",
       "    <tr style=\"text-align: right;\">\n",
       "      <th></th>\n",
       "      <th>Valeurs</th>\n",
       "      <th>Occurences</th>\n",
       "    </tr>\n",
       "  </thead>\n",
       "  <tbody>\n",
       "    <tr>\n",
       "      <th>0</th>\n",
       "      <td>-156.0</td>\n",
       "      <td>2597</td>\n",
       "    </tr>\n",
       "    <tr>\n",
       "      <th>1</th>\n",
       "      <td>-150.0</td>\n",
       "      <td>2163</td>\n",
       "    </tr>\n",
       "    <tr>\n",
       "      <th>2</th>\n",
       "      <td>0.0</td>\n",
       "      <td>1070508</td>\n",
       "    </tr>\n",
       "    <tr>\n",
       "      <th>3</th>\n",
       "      <td>150.0</td>\n",
       "      <td>2013</td>\n",
       "    </tr>\n",
       "    <tr>\n",
       "      <th>4</th>\n",
       "      <td>156.0</td>\n",
       "      <td>2719</td>\n",
       "    </tr>\n",
       "  </tbody>\n",
       "</table>\n",
       "</div>"
      ],
      "text/plain": [
       "   Valeurs  Occurences\n",
       "0   -156.0        2597\n",
       "1   -150.0        2163\n",
       "2      0.0     1070508\n",
       "3    150.0        2013\n",
       "4    156.0        2719"
      ]
     },
     "execution_count": 50,
     "metadata": {},
     "output_type": "execute_result"
    }
   ],
   "source": [
    "data =  epsilon\n",
    "dct_result = dct(data, type=2)\n",
    "unique_values, counts = np.unique(dct_result, return_counts=True)\n",
    "df = pd.DataFrame({'Valeurs': unique_values, 'Occurences': counts})\n",
    "df\n"
   ]
  },
  {
   "cell_type": "code",
   "execution_count": 326,
   "metadata": {},
   "outputs": [
    {
     "data": {
      "image/png": "[encoded data removed]",
      "text/plain": [
       "<Figure size 1440x1800 with 4 Axes>"
      ]
     },
     "metadata": {
      "needs_background": "light"
     },
     "output_type": "display_data"
    }
   ],
   "source": [
    "# Je me suis aidé de ce repo pour ces fonctionnalités : https://github.com/anantham/Image-Processing/blob/master/DCT.py\n",
    "def get_dct(img:np.ndarray) -> np.ndarray:\n",
    "    \"\"\"Renvoie les coefficients d'une transformée en cosinus discrète\n",
    "\n",
    "    Args:\n",
    "        img (np.ndarray): ndarray de l'image\n",
    "\n",
    "    Returns:\n",
    "        np.ndarray: Liste des coefficents\n",
    "    \"\"\"\n",
    "    return fftpack.dct(fftpack.dct(img.T, norm='ortho').T, norm='ortho')\n",
    "\n",
    "def get_idct(coefficients:np.ndarray) -> np.ndarray:\n",
    "    \"\"\"Fait l'inverse transformée en cosinus discrète pour générer l'image\n",
    "\n",
    "    Args:\n",
    "        coefficients (np.ndarray): Liste des coefficents \n",
    "\n",
    "    Returns:\n",
    "        np.ndarray: Image générée par les coefficents\n",
    "    \"\"\"\n",
    "    return fftpack.idct(fftpack.idct(coefficients.T, norm='ortho').T, norm='ortho')\n",
    "\n",
    "def get_reconstructed_image(raw:np.ndarray)->np.ndarray:\n",
    "    \"\"\"Reconstruit l'image à partir de `get_idct`\n",
    "\n",
    "    Args:\n",
    "        raw (np.ndarray): données brutes\n",
    "\n",
    "    Returns:\n",
    "        np.ndarray: image\n",
    "    \"\"\"\n",
    "    img = raw.clip(0, 255)\n",
    "    img = img.astype('uint8')\n",
    "    return img\n",
    "\n",
    "def compress_img(img_array:np.ndarray,compression_ratio:float)->np.ndarray:\n",
    "    \"\"\"\n",
    "    Compresse une image selon un ratio choisi\n",
    "    Args:\n",
    "        img_array (np.ndarray): ndarray de l'image\n",
    "        compression_ratio (float): ratio de compression\n",
    "\n",
    "    Returns:\n",
    "        np.ndarray: image à laquelle on a appliqué la compression.\n",
    "    \"\"\"\n",
    "    coeff = get_dct(img_array)\n",
    "    num_coeff = int(compression_ratio*len(coeff))\n",
    "    coeff[num_coeff:] = 0\n",
    "    return get_reconstructed_image(get_idct(coeff))\n",
    "fig,ax =plt.subplots(nrows=4,figsize=(20,25))\n",
    "ax[0].imshow(backward_estimator.f1)\n",
    "ax[0].set_title(f'Image F1')\n",
    "for index,compressing_ratio in enumerate([0.1,0.15,0.5],1):\n",
    "    ax[index].imshow(compress_img(backward_estimator.f1,compressing_ratio))\n",
    "    ax[index].set_title(f'Compression avec un ratio de {compressing_ratio}')\n",
    "\n"
   ]
  },
  {
   "attachments": {},
   "cell_type": "markdown",
   "metadata": {},
   "source": [
    "## **Question (G)**\n",
    "Qu’est-ce-qui aurait changé si on utilise une méthode à base de mesh du point de vue de la minimisation ? et du point de vue du rendu final ? Montrez vos résultats en vous aidant du TP1."
   ]
  },
  {
   "cell_type": "code",
   "execution_count": 43,
   "metadata": {},
   "outputs": [
    {
     "name": "stderr",
     "output_type": "stream",
     "text": [
      "100%|██████████| 25/25 [00:44<00:00,  1.80s/it]\n"
     ]
    },
    {
     "data": {
      "image/png": "[encoded data removed]",
      "text/plain": [
       "<Figure size 720x720 with 1 Axes>"
      ]
     },
     "metadata": {
      "needs_background": "light"
     },
     "output_type": "display_data"
    }
   ],
   "source": [
    "class MeshBlock:\n",
    "    def __init__(self,x:int,y:int,size:int) -> None:\n",
    "    \n",
    "        # Coordonées du bloc ayant une forme supposée carrée.\n",
    "        self.x = x \n",
    "        self.y = y\n",
    "        self.size = size \n",
    "        # Initialisation d'un tableau phi_k qui va contenir les coefficient des d_k\n",
    "        self.phi_k = np.zeros(shape=(4))\n",
    "        # self.init_nodes()\n",
    "        self.mesh_nodes = []\n",
    "        self.EDFD = -1\n",
    "   \n",
    "    \n",
    "    def get_phi_k(self,x:int,y:int):\n",
    "        x_max = self.x+self.size\n",
    "        y_max = self.y+self.size\n",
    "        constant = (x_max - self.x)*(y_max - self.y)\n",
    "        self.phi_k[0]=((x_max - x)*(y_max - y)/constant)\n",
    "        self.phi_k[1]=((x - self.x)*(y_max - y)/constant)\n",
    "        self.phi_k[2]=((x - self.x)*(y - self.y)/constant)\n",
    "        self.phi_k[3]=((x_max - x)*(y - self.y)/constant)\n",
    "        return self.phi_k\n",
    "    \n",
    "    def get_d_vector(self,x:int, y:int) -> tuple:\n",
    "        \"\"\"\n",
    "        Génère le vecteur d en faisant la somme pondérée des phi_k et d_k.\n",
    "        \"\"\"\n",
    "        self.get_phi_k(x,y)\n",
    "        x_d,y_d =0,0\n",
    "        for i in range(4):\n",
    "            x_d+= self.mesh_nodes[i].d_vector[0] * self.phi_k[i]\n",
    "            y_d+= self.mesh_nodes[i].d_vector[1] * self.phi_k[i]\n",
    "        return int(x_d),int(y_d)\n",
    "    \n",
    "    def __str__(self) -> str:\n",
    "        return f'{[(str(node)) for node in self.nodes]}'\n",
    "\n",
    "\n",
    "\n",
    "class MeshBasedEstimator:\n",
    "    def __init__(self, frame_1_file_name :str, frame_2_file_name,  block_size: int = 10,learning_rate:float = 1e-6) -> None:\n",
    "        \n",
    "        img1 = Image.open(frame_1_file_name)\n",
    "        img2 = Image.open(frame_2_file_name)\n",
    "        self.f2 = np.asarray(img2)\n",
    "        self.f1 = np.asarray(img1)\n",
    "        assert self.f1.shape == self.f2.shape\n",
    "        self.learning_rate = learning_rate\n",
    "        self.block_size = block_size\n",
    "        self.init_blocks()\n",
    "        \n",
    "    def init_blocks(self):\n",
    "        \"\"\"Initialise les blocs\"\"\"\n",
    "        height,width = self.f1.shape[0:2]\n",
    "        rows = height//self.block_size\n",
    "        cols = width//self.block_size\n",
    "        self.blocks_array = np.ndarray(shape=(rows,cols),dtype=MeshBlock)\n",
    "        self.node_array = np.ndarray(shape=(rows+1,cols+1,2))\n",
    "        for i in range(self.blocks_array.shape[0]):\n",
    "            for j in range(self.blocks_array.shape[1]):\n",
    "                x,y =self.block_size*i,self.block_size*j\n",
    "                current_block = MeshBlock(x,y,self.block_size)\n",
    "                self.blocks_array[i,j] = current_block\n",
    "                for k in (0,1):\n",
    "                    for l in (0,1):\n",
    "                        self.node_array[i+k,j+l] = np.zeros(shape=(2))\n",
    "                \n",
    "     \n",
    "    def psi_1(self,x:int,y:int) -> int:\n",
    "        \"\"\"\n",
    "        Méthode qui détermine la luminescence de la frame 1.\n",
    "        \"\"\"\n",
    "        if(x >= self.f1.shape[0] or y >= self.f1.shape[1]):\n",
    "            return 0\n",
    "        if(x < 0 or y < 0):\n",
    "            return 0\n",
    "        return np.sum(self.f1[x,y].astype(int))\n",
    "    \n",
    "    def psi_2(self,x:int,y:int) -> int:\n",
    "        \"\"\"\n",
    "        Méthode qui détermine la luminescence de la frame 2.\n",
    "        \"\"\"\n",
    "        if(x >= self.f2.shape[0] or y >= self.f2.shape[1]):\n",
    "            return 0\n",
    "        if(x < 0 or y < 0):\n",
    "            return 0\n",
    "        return np.sum(self.f2[x,y].astype(int))\n",
    "    \n",
    "    def get_EDFD(self,i:int,j:int) -> int:\n",
    "        \"\"\"\"Calcule l'erreur\"\"\"\n",
    "        error = 0\n",
    "        block = self.blocks_array[i,j]\n",
    "        for x in range(block.x,block.x+block.size):\n",
    "            for y in range(block.y,block.y+block.size):\n",
    "                vectors = self.node_array[i:i+2,j:j+2].reshape((4,2))\n",
    "                phi_k = block.get_phi_k(x,y)\n",
    "                x_d = int(np.sum(vectors[:,0] * phi_k))\n",
    "                y_d = int(np.sum(vectors[:,1] * phi_k))\n",
    "                diff = (np.sum( self.psi_2(x=x+x_d,y=y+y_d) - self.psi_1(x=x,y=y)))**2\n",
    "                error +=diff\n",
    "            break\n",
    "        block.EDFD = error\n",
    "        return error\n",
    "    def get_d_EDFD(self,i:int,j:int) -> int:\n",
    "        \"\"\"\" Calcule l'erreur d'un vecteur d \"\"\"\n",
    "        error = 0\n",
    "        for k in range(max(0,i-1), min(i+2,self.node_array.shape[0]-1)):\n",
    "            for l in range(max(0,j-1), min(j+2,self.node_array.shape[1]-1)):\n",
    "                block =  self.blocks_array[k,l]\n",
    "                self.get_EDFD(k,l)\n",
    "                error += block.EDFD\n",
    "        return error\n",
    "    def gradient_descent(self,h:int=2, learning_rate = 1e-5):\n",
    "        new_node_array = np.copy(self.node_array)\n",
    "       \n",
    "        for i in (range(self.node_array.shape[0])):\n",
    "           \n",
    "            for j in range(self.node_array.shape[1]):\n",
    "                edfd = self.get_d_EDFD(i,j) \n",
    "                \n",
    "                for k in (0,1):\n",
    "                    old_d_n = self.node_array[i,j,k]\n",
    "                    self.node_array[i,j,k] += h \n",
    "                    derivate = (self.get_d_EDFD(i,j) - edfd)/h\n",
    "                    \n",
    "                    new_node_array[i,j,k] = old_d_n - derivate * learning_rate\n",
    "                    self.node_array[i,j,k] = old_d_n\n",
    "        self.node_array = new_node_array\n",
    "        return\n",
    "    \n",
    "    def plot_nodes (self, ax: plt.Axes = None, fig: plt.Figure = None, color:str ='r') -> tuple:\n",
    "        \"\"\"\" Méthode pour afficher les noeuds\"\"\"\n",
    "        if(ax is None or fig is None):\n",
    "            fig, ax = plt.subplots(figsize=(10,10))\n",
    "        # plt.imshow(self.frame_array_2)\n",
    "        def get_coord(i,j):\n",
    "            x1 = i * self.block_size + self.node_array[i,j,0]\n",
    "            y1 = j * self.block_size + self.node_array[i,j,1]\n",
    "            return x1,y1\n",
    "        def plot_cols(i,j,ax):\n",
    "            x1,y1 = get_coord(i,j)\n",
    "            x2,y2 = get_coord(i,j+1)\n",
    "            ax.plot([x1, x2],[y1,y2], color=(1,0,0))\n",
    "            \n",
    "        def plot_rows(i,j,ax):\n",
    "            x1,y1 = get_coord(i,j)\n",
    "            x2,y2 = get_coord(i+1,j)\n",
    "            ax.plot([x1, x2],[y1,y2], color=(1,0,0))\n",
    "            \n",
    "        ax.imshow(self.f2)\n",
    "        for i in range(self.node_array.shape[0]):\n",
    "            for j in range(self.node_array.shape[1]):\n",
    "                if(j<self.node_array.shape[1]-1):\n",
    "                    plot_cols(i,j,ax)\n",
    "                if(i<self.node_array.shape[0]-1):\n",
    "                    plot_rows(i,j,ax)\n",
    "                \n",
    "            \n",
    "        \n",
    "        return\n",
    "        \n",
    "mbe = MeshBasedEstimator(frame_1_file_name=img_2_file_path,frame_2_file_name=img_1_file_path,block_size=600//4)\n",
    "for epoch in tqdm(range(25)):\n",
    "    mbe.gradient_descent(learning_rate=1e-5)\n",
    "mbe.plot_nodes()\n",
    "\n",
    "plt.show()"
   ]
  },
  {
   "cell_type": "code",
   "execution_count": 44,
   "metadata": {},
   "outputs": [
    {
     "name": "stdout",
     "output_type": "stream",
     "text": [
      "0 1\n",
      "1 5\n",
      "2 6\n",
      "3 24\n",
      "4 6\n"
     ]
    }
   ],
   "source": [
    "for e,i in enumerate([1,5,6,24,6]):\n",
    "    print(e,i)"
   ]
  }
 ],
 "metadata": {
  "kernelspec": {
   "display_name": "Python 3",
   "language": "python",
   "name": "python3"
  },
  "language_info": {
   "codemirror_mode": {
    "name": "ipython",
    "version": 3
   },
   "file_extension": ".py",
   "mimetype": "text/x-python",
   "name": "python",
   "nbconvert_exporter": "python",
   "pygments_lexer": "ipython3",
   "version": "3.10.6"
  },
  "orig_nbformat": 4
 },
 "nbformat": 4,
 "nbformat_minor": 2
}
